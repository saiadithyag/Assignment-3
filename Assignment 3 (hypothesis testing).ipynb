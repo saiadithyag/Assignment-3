{
 "cells": [
  {
   "cell_type": "markdown",
   "id": "e6c72e12",
   "metadata": {},
   "source": [
    "     A F&B manager wants to determine whether there is any significant difference in the diameter of the cutlet between two units. A randomly selected sample of cutlets was collected from both units and measured? Analyze the data and draw inferences at 5% significance level. Please state the assumptions and tests that you carried out to check validity of the assumptions.\n"
   ]
  },
  {
   "cell_type": "code",
   "execution_count": 8,
   "id": "cc62ec70",
   "metadata": {
    "ExecuteTime": {
     "end_time": "2022-12-21T16:39:07.486124Z",
     "start_time": "2022-12-21T16:39:07.402690Z"
    }
   },
   "outputs": [],
   "source": [
    "import pandas as pd \n",
    "import matplotlib.pyplot as plt\n",
    "import seaborn as sn \n",
    "import statistics as stats"
   ]
  },
  {
   "cell_type": "code",
   "execution_count": 2,
   "id": "0d7d21c8",
   "metadata": {
    "ExecuteTime": {
     "end_time": "2022-12-21T16:15:13.219014Z",
     "start_time": "2022-12-21T16:15:13.046596Z"
    }
   },
   "outputs": [],
   "source": [
    "df= pd.read_csv('Cutlets.csv')"
   ]
  },
  {
   "cell_type": "code",
   "execution_count": 3,
   "id": "29242476",
   "metadata": {
    "ExecuteTime": {
     "end_time": "2022-12-20T14:12:34.290822Z",
     "start_time": "2022-12-20T14:12:34.261074Z"
    }
   },
   "outputs": [
    {
     "data": {
      "text/html": [
       "<div>\n",
       "<style scoped>\n",
       "    .dataframe tbody tr th:only-of-type {\n",
       "        vertical-align: middle;\n",
       "    }\n",
       "\n",
       "    .dataframe tbody tr th {\n",
       "        vertical-align: top;\n",
       "    }\n",
       "\n",
       "    .dataframe thead th {\n",
       "        text-align: right;\n",
       "    }\n",
       "</style>\n",
       "<table border=\"1\" class=\"dataframe\">\n",
       "  <thead>\n",
       "    <tr style=\"text-align: right;\">\n",
       "      <th></th>\n",
       "      <th>Unit A</th>\n",
       "      <th>Unit B</th>\n",
       "    </tr>\n",
       "  </thead>\n",
       "  <tbody>\n",
       "    <tr>\n",
       "      <th>0</th>\n",
       "      <td>6.8090</td>\n",
       "      <td>6.7703</td>\n",
       "    </tr>\n",
       "    <tr>\n",
       "      <th>1</th>\n",
       "      <td>6.4376</td>\n",
       "      <td>7.5093</td>\n",
       "    </tr>\n",
       "    <tr>\n",
       "      <th>2</th>\n",
       "      <td>6.9157</td>\n",
       "      <td>6.7300</td>\n",
       "    </tr>\n",
       "    <tr>\n",
       "      <th>3</th>\n",
       "      <td>7.3012</td>\n",
       "      <td>6.7878</td>\n",
       "    </tr>\n",
       "    <tr>\n",
       "      <th>4</th>\n",
       "      <td>7.4488</td>\n",
       "      <td>7.1522</td>\n",
       "    </tr>\n",
       "  </tbody>\n",
       "</table>\n",
       "</div>"
      ],
      "text/plain": [
       "   Unit A  Unit B\n",
       "0  6.8090  6.7703\n",
       "1  6.4376  7.5093\n",
       "2  6.9157  6.7300\n",
       "3  7.3012  6.7878\n",
       "4  7.4488  7.1522"
      ]
     },
     "execution_count": 3,
     "metadata": {},
     "output_type": "execute_result"
    }
   ],
   "source": [
    "df.head()"
   ]
  },
  {
   "cell_type": "code",
   "execution_count": 11,
   "id": "73f26c61",
   "metadata": {
    "ExecuteTime": {
     "end_time": "2022-12-20T14:21:03.205890Z",
     "start_time": "2022-12-20T14:21:03.190128Z"
    }
   },
   "outputs": [
    {
     "data": {
      "text/plain": [
       "Index(['Unit A', 'Unit B'], dtype='object')"
      ]
     },
     "execution_count": 11,
     "metadata": {},
     "output_type": "execute_result"
    }
   ],
   "source": [
    "df.columns"
   ]
  },
  {
   "cell_type": "code",
   "execution_count": 6,
   "id": "ec3fcde3",
   "metadata": {
    "ExecuteTime": {
     "end_time": "2022-12-20T14:14:13.814801Z",
     "start_time": "2022-12-20T14:14:13.794439Z"
    }
   },
   "outputs": [
    {
     "data": {
      "text/html": [
       "<div>\n",
       "<style scoped>\n",
       "    .dataframe tbody tr th:only-of-type {\n",
       "        vertical-align: middle;\n",
       "    }\n",
       "\n",
       "    .dataframe tbody tr th {\n",
       "        vertical-align: top;\n",
       "    }\n",
       "\n",
       "    .dataframe thead th {\n",
       "        text-align: right;\n",
       "    }\n",
       "</style>\n",
       "<table border=\"1\" class=\"dataframe\">\n",
       "  <thead>\n",
       "    <tr style=\"text-align: right;\">\n",
       "      <th></th>\n",
       "      <th>Unit A</th>\n",
       "      <th>Unit B</th>\n",
       "    </tr>\n",
       "  </thead>\n",
       "  <tbody>\n",
       "    <tr>\n",
       "      <th>count</th>\n",
       "      <td>35.000000</td>\n",
       "      <td>35.000000</td>\n",
       "    </tr>\n",
       "    <tr>\n",
       "      <th>mean</th>\n",
       "      <td>7.019091</td>\n",
       "      <td>6.964297</td>\n",
       "    </tr>\n",
       "    <tr>\n",
       "      <th>std</th>\n",
       "      <td>0.288408</td>\n",
       "      <td>0.343401</td>\n",
       "    </tr>\n",
       "    <tr>\n",
       "      <th>min</th>\n",
       "      <td>6.437600</td>\n",
       "      <td>6.038000</td>\n",
       "    </tr>\n",
       "    <tr>\n",
       "      <th>25%</th>\n",
       "      <td>6.831500</td>\n",
       "      <td>6.753600</td>\n",
       "    </tr>\n",
       "    <tr>\n",
       "      <th>50%</th>\n",
       "      <td>6.943800</td>\n",
       "      <td>6.939900</td>\n",
       "    </tr>\n",
       "    <tr>\n",
       "      <th>75%</th>\n",
       "      <td>7.280550</td>\n",
       "      <td>7.195000</td>\n",
       "    </tr>\n",
       "    <tr>\n",
       "      <th>max</th>\n",
       "      <td>7.516900</td>\n",
       "      <td>7.545900</td>\n",
       "    </tr>\n",
       "  </tbody>\n",
       "</table>\n",
       "</div>"
      ],
      "text/plain": [
       "          Unit A     Unit B\n",
       "count  35.000000  35.000000\n",
       "mean    7.019091   6.964297\n",
       "std     0.288408   0.343401\n",
       "min     6.437600   6.038000\n",
       "25%     6.831500   6.753600\n",
       "50%     6.943800   6.939900\n",
       "75%     7.280550   7.195000\n",
       "max     7.516900   7.545900"
      ]
     },
     "execution_count": 6,
     "metadata": {},
     "output_type": "execute_result"
    }
   ],
   "source": [
    "df.describe()"
   ]
  },
  {
   "cell_type": "code",
   "execution_count": 3,
   "id": "d2031c0d",
   "metadata": {
    "ExecuteTime": {
     "end_time": "2022-12-21T16:15:13.418640Z",
     "start_time": "2022-12-21T16:15:13.383239Z"
    }
   },
   "outputs": [
    {
     "data": {
      "text/plain": [
       "0.08317945374789915"
      ]
     },
     "execution_count": 3,
     "metadata": {},
     "output_type": "execute_result"
    }
   ],
   "source": [
    "df['Unit A'].var()"
   ]
  },
  {
   "cell_type": "markdown",
   "id": "a04c6024",
   "metadata": {},
   "source": [
    "# we considered 2 tail T test"
   ]
  },
  {
   "cell_type": "markdown",
   "id": "483a33fa",
   "metadata": {},
   "source": [
    "# h0  u1= u2\n",
    "# h1  u1!=u2"
   ]
  },
  {
   "cell_type": "markdown",
   "id": "d0a9fef3",
   "metadata": {},
   "source": [
    "# we calculate t statistics  and t critical values and compare them \n",
    "# t stats = ( x1-x2)/{  (s1*s1  + s2*s2) / 2*root of( 1/n1  + 1/n2)"
   ]
  },
  {
   "cell_type": "code",
   "execution_count": 5,
   "id": "4689cdd6",
   "metadata": {
    "ExecuteTime": {
     "end_time": "2022-12-21T16:33:31.590572Z",
     "start_time": "2022-12-21T16:33:31.580581Z"
    }
   },
   "outputs": [],
   "source": [
    "t = (7.019091-6.964297)/(((0.288408**2 + 0.288408**2 )/2)/((2/35)**0.5))"
   ]
  },
  {
   "cell_type": "code",
   "execution_count": 6,
   "id": "04ea435f",
   "metadata": {
    "ExecuteTime": {
     "end_time": "2022-12-21T16:33:36.956319Z",
     "start_time": "2022-12-21T16:33:36.942449Z"
    }
   },
   "outputs": [
    {
     "data": {
      "text/plain": [
       "0.1574705612117219"
      ]
     },
     "execution_count": 6,
     "metadata": {},
     "output_type": "execute_result"
    }
   ],
   "source": [
    "t"
   ]
  },
  {
   "cell_type": "markdown",
   "id": "7e1f6fcc",
   "metadata": {},
   "source": [
    "# now we find t critical for alpha= 0.05"
   ]
  },
  {
   "cell_type": "markdown",
   "id": "06faaeb8",
   "metadata": {},
   "source": [
    "# degree of freedom = n1+ n2 -2 =35+35-2\n",
    " #                                 = 68\n",
    " # 95+ 5/2"
   ]
  },
  {
   "cell_type": "code",
   "execution_count": 12,
   "id": "db1ec5e1",
   "metadata": {
    "ExecuteTime": {
     "end_time": "2022-12-21T16:45:02.760359Z",
     "start_time": "2022-12-21T16:45:02.657117Z"
    }
   },
   "outputs": [
    {
     "data": {
      "text/plain": [
       "1.9954689309194018"
      ]
     },
     "execution_count": 12,
     "metadata": {},
     "output_type": "execute_result"
    }
   ],
   "source": [
    "import scipy.stats\n",
    "scipy.stats.t.ppf(0.975,68) # t value  "
   ]
  },
  {
   "cell_type": "markdown",
   "id": "b8b7f075",
   "metadata": {},
   "source": [
    "# t stats < t critical \n",
    "# so we accept null hypothesis \n",
    "#  so there  is no  significant difference in the diameter of the cutlet between two units\n",
    "# u1= u2"
   ]
  },
  {
   "cell_type": "markdown",
   "id": "ffa8a3bc",
   "metadata": {},
   "source": [
    "# ------------------------------------------------------------------------------------------------------------ "
   ]
  },
  {
   "cell_type": "markdown",
   "id": "a2263cf5",
   "metadata": {},
   "source": [
    "# 2 "
   ]
  },
  {
   "cell_type": "code",
   "execution_count": 8,
   "id": "28ae7630",
   "metadata": {
    "ExecuteTime": {
     "end_time": "2022-12-27T13:35:52.065203Z",
     "start_time": "2022-12-27T13:35:52.011395Z"
    }
   },
   "outputs": [],
   "source": [
    "import pandas as pd \n",
    "from scipy import stats\n",
    "from scipy.stats import norm\n",
    "df=pd.read_csv('LabTAT.csv') "
   ]
  },
  {
   "cell_type": "code",
   "execution_count": 9,
   "id": "19d5395f",
   "metadata": {
    "ExecuteTime": {
     "end_time": "2022-12-27T13:35:55.086255Z",
     "start_time": "2022-12-27T13:35:55.061659Z"
    }
   },
   "outputs": [
    {
     "data": {
      "text/html": [
       "<div>\n",
       "<style scoped>\n",
       "    .dataframe tbody tr th:only-of-type {\n",
       "        vertical-align: middle;\n",
       "    }\n",
       "\n",
       "    .dataframe tbody tr th {\n",
       "        vertical-align: top;\n",
       "    }\n",
       "\n",
       "    .dataframe thead th {\n",
       "        text-align: right;\n",
       "    }\n",
       "</style>\n",
       "<table border=\"1\" class=\"dataframe\">\n",
       "  <thead>\n",
       "    <tr style=\"text-align: right;\">\n",
       "      <th></th>\n",
       "      <th>Laboratory 1</th>\n",
       "      <th>Laboratory 2</th>\n",
       "      <th>Laboratory 3</th>\n",
       "      <th>Laboratory 4</th>\n",
       "    </tr>\n",
       "  </thead>\n",
       "  <tbody>\n",
       "    <tr>\n",
       "      <th>0</th>\n",
       "      <td>185.35</td>\n",
       "      <td>165.53</td>\n",
       "      <td>176.70</td>\n",
       "      <td>166.13</td>\n",
       "    </tr>\n",
       "    <tr>\n",
       "      <th>1</th>\n",
       "      <td>170.49</td>\n",
       "      <td>185.91</td>\n",
       "      <td>198.45</td>\n",
       "      <td>160.79</td>\n",
       "    </tr>\n",
       "    <tr>\n",
       "      <th>2</th>\n",
       "      <td>192.77</td>\n",
       "      <td>194.92</td>\n",
       "      <td>201.23</td>\n",
       "      <td>185.18</td>\n",
       "    </tr>\n",
       "    <tr>\n",
       "      <th>3</th>\n",
       "      <td>177.33</td>\n",
       "      <td>183.00</td>\n",
       "      <td>199.61</td>\n",
       "      <td>176.42</td>\n",
       "    </tr>\n",
       "    <tr>\n",
       "      <th>4</th>\n",
       "      <td>193.41</td>\n",
       "      <td>169.57</td>\n",
       "      <td>204.63</td>\n",
       "      <td>152.60</td>\n",
       "    </tr>\n",
       "    <tr>\n",
       "      <th>...</th>\n",
       "      <td>...</td>\n",
       "      <td>...</td>\n",
       "      <td>...</td>\n",
       "      <td>...</td>\n",
       "    </tr>\n",
       "    <tr>\n",
       "      <th>115</th>\n",
       "      <td>178.49</td>\n",
       "      <td>170.66</td>\n",
       "      <td>193.80</td>\n",
       "      <td>172.68</td>\n",
       "    </tr>\n",
       "    <tr>\n",
       "      <th>116</th>\n",
       "      <td>176.08</td>\n",
       "      <td>183.98</td>\n",
       "      <td>215.25</td>\n",
       "      <td>177.64</td>\n",
       "    </tr>\n",
       "    <tr>\n",
       "      <th>117</th>\n",
       "      <td>202.48</td>\n",
       "      <td>174.54</td>\n",
       "      <td>203.99</td>\n",
       "      <td>170.27</td>\n",
       "    </tr>\n",
       "    <tr>\n",
       "      <th>118</th>\n",
       "      <td>182.40</td>\n",
       "      <td>197.18</td>\n",
       "      <td>194.52</td>\n",
       "      <td>150.87</td>\n",
       "    </tr>\n",
       "    <tr>\n",
       "      <th>119</th>\n",
       "      <td>182.09</td>\n",
       "      <td>215.17</td>\n",
       "      <td>221.49</td>\n",
       "      <td>162.21</td>\n",
       "    </tr>\n",
       "  </tbody>\n",
       "</table>\n",
       "<p>120 rows × 4 columns</p>\n",
       "</div>"
      ],
      "text/plain": [
       "     Laboratory 1  Laboratory 2  Laboratory 3  Laboratory 4\n",
       "0          185.35        165.53        176.70        166.13\n",
       "1          170.49        185.91        198.45        160.79\n",
       "2          192.77        194.92        201.23        185.18\n",
       "3          177.33        183.00        199.61        176.42\n",
       "4          193.41        169.57        204.63        152.60\n",
       "..            ...           ...           ...           ...\n",
       "115        178.49        170.66        193.80        172.68\n",
       "116        176.08        183.98        215.25        177.64\n",
       "117        202.48        174.54        203.99        170.27\n",
       "118        182.40        197.18        194.52        150.87\n",
       "119        182.09        215.17        221.49        162.21\n",
       "\n",
       "[120 rows x 4 columns]"
      ]
     },
     "execution_count": 9,
     "metadata": {},
     "output_type": "execute_result"
    }
   ],
   "source": [
    "df"
   ]
  },
  {
   "cell_type": "code",
   "execution_count": 3,
   "id": "1a1e1d4e",
   "metadata": {
    "ExecuteTime": {
     "end_time": "2022-12-26T08:14:47.891422Z",
     "start_time": "2022-12-26T08:14:47.879683Z"
    }
   },
   "outputs": [],
   "source": [
    "# H0 = all averages are equal \n",
    "# H1 =  atleast two values are not equal "
   ]
  },
  {
   "cell_type": "code",
   "execution_count": 4,
   "id": "df3cf898",
   "metadata": {
    "ExecuteTime": {
     "end_time": "2022-12-26T08:15:21.662197Z",
     "start_time": "2022-12-26T08:15:21.657960Z"
    }
   },
   "outputs": [],
   "source": [
    "# we have 4 samples , so we are considering ANOVA test "
   ]
  },
  {
   "cell_type": "code",
   "execution_count": 10,
   "id": "b69cc96c",
   "metadata": {
    "ExecuteTime": {
     "end_time": "2022-12-27T13:36:00.269086Z",
     "start_time": "2022-12-27T13:36:00.256245Z"
    }
   },
   "outputs": [
    {
     "data": {
      "text/plain": [
       "F_onewayResult(statistic=118.70421654401437, pvalue=2.1156708949992414e-57)"
      ]
     },
     "execution_count": 10,
     "metadata": {},
     "output_type": "execute_result"
    }
   ],
   "source": [
    "stats.f_oneway(df.iloc[:,0],df.iloc[:,1],df.iloc[:,2],df.iloc[:,3]) \n"
   ]
  },
  {
   "cell_type": "markdown",
   "id": "3cbf8406",
   "metadata": {
    "ExecuteTime": {
     "end_time": "2022-12-26T08:28:33.068471Z",
     "start_time": "2022-12-26T08:28:33.051887Z"
    }
   },
   "source": [
    "# pvalue < 0.05  \n",
    "# accept  alternate hypothesis \n",
    " #  There is  difference in average TAT among the different laboratories "
   ]
  },
  {
   "cell_type": "markdown",
   "id": "a35e25df",
   "metadata": {},
   "source": [
    "# --------------------------------------------------------------------------------------------------------------- "
   ]
  },
  {
   "cell_type": "markdown",
   "id": "7072fd73",
   "metadata": {},
   "source": [
    "# 3 "
   ]
  },
  {
   "cell_type": "code",
   "execution_count": 1,
   "id": "f2b3878e",
   "metadata": {
    "ExecuteTime": {
     "end_time": "2022-12-27T13:33:51.658039Z",
     "start_time": "2022-12-27T13:33:39.751820Z"
    }
   },
   "outputs": [],
   "source": [
    "import pandas as pd \n",
    "from scipy import stats\n",
    "from scipy.stats import norm \n",
    "from scipy.stats import chi2_contingency\n",
    "import numpy as np"
   ]
  },
  {
   "cell_type": "code",
   "execution_count": 2,
   "id": "b4e8f2e3",
   "metadata": {
    "ExecuteTime": {
     "end_time": "2022-12-27T13:33:51.702924Z",
     "start_time": "2022-12-27T13:33:51.670055Z"
    }
   },
   "outputs": [],
   "source": [
    "data = pd.read_csv('BuyerRatio.csv')"
   ]
  },
  {
   "cell_type": "markdown",
   "id": "58f6af79",
   "metadata": {},
   "source": [
    "# h0 = male-female buyer rations are similar across regions \n",
    "# h1 = male-female buyer rations are not  similar across regions "
   ]
  },
  {
   "cell_type": "code",
   "execution_count": 3,
   "id": "e4f7cefc",
   "metadata": {
    "ExecuteTime": {
     "end_time": "2022-12-27T13:33:51.962385Z",
     "start_time": "2022-12-27T13:33:51.706427Z"
    }
   },
   "outputs": [
    {
     "data": {
      "text/html": [
       "<div>\n",
       "<style scoped>\n",
       "    .dataframe tbody tr th:only-of-type {\n",
       "        vertical-align: middle;\n",
       "    }\n",
       "\n",
       "    .dataframe tbody tr th {\n",
       "        vertical-align: top;\n",
       "    }\n",
       "\n",
       "    .dataframe thead th {\n",
       "        text-align: right;\n",
       "    }\n",
       "</style>\n",
       "<table border=\"1\" class=\"dataframe\">\n",
       "  <thead>\n",
       "    <tr style=\"text-align: right;\">\n",
       "      <th></th>\n",
       "      <th>Observed Values</th>\n",
       "      <th>East</th>\n",
       "      <th>West</th>\n",
       "      <th>North</th>\n",
       "      <th>South</th>\n",
       "    </tr>\n",
       "  </thead>\n",
       "  <tbody>\n",
       "    <tr>\n",
       "      <th>0</th>\n",
       "      <td>Males</td>\n",
       "      <td>50</td>\n",
       "      <td>142</td>\n",
       "      <td>131</td>\n",
       "      <td>70</td>\n",
       "    </tr>\n",
       "    <tr>\n",
       "      <th>1</th>\n",
       "      <td>Females</td>\n",
       "      <td>435</td>\n",
       "      <td>1523</td>\n",
       "      <td>1356</td>\n",
       "      <td>750</td>\n",
       "    </tr>\n",
       "  </tbody>\n",
       "</table>\n",
       "</div>"
      ],
      "text/plain": [
       "  Observed Values  East  West  North  South\n",
       "0           Males    50   142    131     70\n",
       "1         Females   435  1523   1356    750"
      ]
     },
     "execution_count": 3,
     "metadata": {},
     "output_type": "execute_result"
    }
   ],
   "source": [
    "data "
   ]
  },
  {
   "cell_type": "code",
   "execution_count": 4,
   "id": "813e5473",
   "metadata": {
    "ExecuteTime": {
     "end_time": "2022-12-27T13:33:54.618559Z",
     "start_time": "2022-12-27T13:33:54.605363Z"
    }
   },
   "outputs": [],
   "source": [
    "df=np.array([[50,142,131,70],[435,1523,1356,750]]) "
   ]
  },
  {
   "cell_type": "code",
   "execution_count": 5,
   "id": "77f43218",
   "metadata": {
    "ExecuteTime": {
     "end_time": "2022-12-27T13:33:58.379038Z",
     "start_time": "2022-12-27T13:33:58.325057Z"
    }
   },
   "outputs": [
    {
     "data": {
      "text/plain": [
       "(1.595945538661058,\n",
       " 0.6603094907091882,\n",
       " 3,\n",
       " array([[  42.76531299,  146.81287862,  131.11756787,   72.30424052],\n",
       "        [ 442.23468701, 1518.18712138, 1355.88243213,  747.69575948]]))"
      ]
     },
     "execution_count": 5,
     "metadata": {},
     "output_type": "execute_result"
    }
   ],
   "source": [
    "#chi square contingency \n",
    "chi2_contingency(df)    # "
   ]
  },
  {
   "cell_type": "markdown",
   "id": "6d0a6d45",
   "metadata": {
    "ExecuteTime": {
     "end_time": "2022-12-27T07:32:07.667828Z",
     "start_time": "2022-12-27T07:32:07.664220Z"
    }
   },
   "source": [
    "# p value > 0.05 \n",
    "# accept null hypothesis \n",
    "# male-female buyer rations are similar across regions "
   ]
  },
  {
   "cell_type": "markdown",
   "id": "5bfce859",
   "metadata": {},
   "source": [
    "# --------------------------------------------------------------------------------------------------------------- "
   ]
  },
  {
   "cell_type": "markdown",
   "id": "2db4c76e",
   "metadata": {},
   "source": [
    "# 4 "
   ]
  },
  {
   "cell_type": "markdown",
   "id": "0a189a7b",
   "metadata": {
    "ExecuteTime": {
     "end_time": "2022-12-26T08:52:41.824709Z",
     "start_time": "2022-12-26T08:52:41.808718Z"
    }
   },
   "source": [
    "# H0 = all centers have same defective %  \n",
    "# H1 =  atleast two centers have different  defective %  "
   ]
  },
  {
   "cell_type": "code",
   "execution_count": 26,
   "id": "84bb3451",
   "metadata": {
    "ExecuteTime": {
     "end_time": "2022-12-26T09:04:51.832349Z",
     "start_time": "2022-12-26T09:04:51.816834Z"
    }
   },
   "outputs": [],
   "source": [
    "import pandas as pd \n",
    "from scipy import stats\n",
    "from scipy.stats import norm\n",
    "import numpy as np \n",
    "from scipy.stats import chi2_contingency\n",
    "df=pd.read_csv('Costomer+OrderForm.csv') "
   ]
  },
  {
   "cell_type": "code",
   "execution_count": 15,
   "id": "72a9feb9",
   "metadata": {
    "ExecuteTime": {
     "end_time": "2022-12-26T08:54:27.941068Z",
     "start_time": "2022-12-26T08:54:27.923172Z"
    }
   },
   "outputs": [
    {
     "data": {
      "text/html": [
       "<div>\n",
       "<style scoped>\n",
       "    .dataframe tbody tr th:only-of-type {\n",
       "        vertical-align: middle;\n",
       "    }\n",
       "\n",
       "    .dataframe tbody tr th {\n",
       "        vertical-align: top;\n",
       "    }\n",
       "\n",
       "    .dataframe thead th {\n",
       "        text-align: right;\n",
       "    }\n",
       "</style>\n",
       "<table border=\"1\" class=\"dataframe\">\n",
       "  <thead>\n",
       "    <tr style=\"text-align: right;\">\n",
       "      <th></th>\n",
       "      <th>Phillippines</th>\n",
       "      <th>Indonesia</th>\n",
       "      <th>Malta</th>\n",
       "      <th>India</th>\n",
       "    </tr>\n",
       "  </thead>\n",
       "  <tbody>\n",
       "    <tr>\n",
       "      <th>0</th>\n",
       "      <td>Error Free</td>\n",
       "      <td>Error Free</td>\n",
       "      <td>Defective</td>\n",
       "      <td>Error Free</td>\n",
       "    </tr>\n",
       "    <tr>\n",
       "      <th>1</th>\n",
       "      <td>Error Free</td>\n",
       "      <td>Error Free</td>\n",
       "      <td>Error Free</td>\n",
       "      <td>Defective</td>\n",
       "    </tr>\n",
       "    <tr>\n",
       "      <th>2</th>\n",
       "      <td>Error Free</td>\n",
       "      <td>Defective</td>\n",
       "      <td>Defective</td>\n",
       "      <td>Error Free</td>\n",
       "    </tr>\n",
       "    <tr>\n",
       "      <th>3</th>\n",
       "      <td>Error Free</td>\n",
       "      <td>Error Free</td>\n",
       "      <td>Error Free</td>\n",
       "      <td>Error Free</td>\n",
       "    </tr>\n",
       "    <tr>\n",
       "      <th>4</th>\n",
       "      <td>Error Free</td>\n",
       "      <td>Error Free</td>\n",
       "      <td>Defective</td>\n",
       "      <td>Error Free</td>\n",
       "    </tr>\n",
       "    <tr>\n",
       "      <th>...</th>\n",
       "      <td>...</td>\n",
       "      <td>...</td>\n",
       "      <td>...</td>\n",
       "      <td>...</td>\n",
       "    </tr>\n",
       "    <tr>\n",
       "      <th>295</th>\n",
       "      <td>Error Free</td>\n",
       "      <td>Error Free</td>\n",
       "      <td>Error Free</td>\n",
       "      <td>Error Free</td>\n",
       "    </tr>\n",
       "    <tr>\n",
       "      <th>296</th>\n",
       "      <td>Error Free</td>\n",
       "      <td>Error Free</td>\n",
       "      <td>Error Free</td>\n",
       "      <td>Error Free</td>\n",
       "    </tr>\n",
       "    <tr>\n",
       "      <th>297</th>\n",
       "      <td>Error Free</td>\n",
       "      <td>Error Free</td>\n",
       "      <td>Defective</td>\n",
       "      <td>Error Free</td>\n",
       "    </tr>\n",
       "    <tr>\n",
       "      <th>298</th>\n",
       "      <td>Error Free</td>\n",
       "      <td>Error Free</td>\n",
       "      <td>Error Free</td>\n",
       "      <td>Error Free</td>\n",
       "    </tr>\n",
       "    <tr>\n",
       "      <th>299</th>\n",
       "      <td>Error Free</td>\n",
       "      <td>Defective</td>\n",
       "      <td>Defective</td>\n",
       "      <td>Error Free</td>\n",
       "    </tr>\n",
       "  </tbody>\n",
       "</table>\n",
       "<p>300 rows × 4 columns</p>\n",
       "</div>"
      ],
      "text/plain": [
       "    Phillippines   Indonesia       Malta       India\n",
       "0     Error Free  Error Free   Defective  Error Free\n",
       "1     Error Free  Error Free  Error Free   Defective\n",
       "2     Error Free   Defective   Defective  Error Free\n",
       "3     Error Free  Error Free  Error Free  Error Free\n",
       "4     Error Free  Error Free   Defective  Error Free\n",
       "..           ...         ...         ...         ...\n",
       "295   Error Free  Error Free  Error Free  Error Free\n",
       "296   Error Free  Error Free  Error Free  Error Free\n",
       "297   Error Free  Error Free   Defective  Error Free\n",
       "298   Error Free  Error Free  Error Free  Error Free\n",
       "299   Error Free   Defective   Defective  Error Free\n",
       "\n",
       "[300 rows x 4 columns]"
      ]
     },
     "execution_count": 15,
     "metadata": {},
     "output_type": "execute_result"
    }
   ],
   "source": [
    "df"
   ]
  },
  {
   "cell_type": "code",
   "execution_count": 17,
   "id": "fcbbf192",
   "metadata": {
    "ExecuteTime": {
     "end_time": "2022-12-26T09:00:48.943323Z",
     "start_time": "2022-12-26T09:00:48.710828Z"
    }
   },
   "outputs": [
    {
     "data": {
      "text/plain": [
       "Error Free    271\n",
       "Defective      29\n",
       "Name: Phillippines, dtype: int64"
      ]
     },
     "execution_count": 17,
     "metadata": {},
     "output_type": "execute_result"
    }
   ],
   "source": [
    "df.Phillippines.value_counts()"
   ]
  },
  {
   "cell_type": "code",
   "execution_count": 18,
   "id": "0f044184",
   "metadata": {
    "ExecuteTime": {
     "end_time": "2022-12-26T09:01:19.145306Z",
     "start_time": "2022-12-26T09:01:19.130282Z"
    }
   },
   "outputs": [
    {
     "data": {
      "text/plain": [
       "Error Free    267\n",
       "Defective      33\n",
       "Name: Indonesia, dtype: int64"
      ]
     },
     "execution_count": 18,
     "metadata": {},
     "output_type": "execute_result"
    }
   ],
   "source": [
    "df.Indonesia.value_counts()"
   ]
  },
  {
   "cell_type": "code",
   "execution_count": 20,
   "id": "f81eec77",
   "metadata": {
    "ExecuteTime": {
     "end_time": "2022-12-26T09:01:47.365065Z",
     "start_time": "2022-12-26T09:01:47.348593Z"
    }
   },
   "outputs": [
    {
     "data": {
      "text/plain": [
       "Error Free    269\n",
       "Defective      31\n",
       "Name: Malta, dtype: int64"
      ]
     },
     "execution_count": 20,
     "metadata": {},
     "output_type": "execute_result"
    }
   ],
   "source": [
    "df.Malta.value_counts()"
   ]
  },
  {
   "cell_type": "code",
   "execution_count": 21,
   "id": "76112142",
   "metadata": {
    "ExecuteTime": {
     "end_time": "2022-12-26T09:02:03.080345Z",
     "start_time": "2022-12-26T09:02:03.065092Z"
    }
   },
   "outputs": [
    {
     "data": {
      "text/plain": [
       "Error Free    280\n",
       "Defective      20\n",
       "Name: India, dtype: int64"
      ]
     },
     "execution_count": 21,
     "metadata": {},
     "output_type": "execute_result"
    }
   ],
   "source": [
    "df.India.value_counts()"
   ]
  },
  {
   "cell_type": "code",
   "execution_count": 24,
   "id": "32580c90",
   "metadata": {
    "ExecuteTime": {
     "end_time": "2022-12-26T09:03:50.455400Z",
     "start_time": "2022-12-26T09:03:50.440416Z"
    }
   },
   "outputs": [],
   "source": [
    "data=np.array([[271,267,269,280],[29,33,31,20]]) "
   ]
  },
  {
   "cell_type": "code",
   "execution_count": 27,
   "id": "3c5d6fd2",
   "metadata": {
    "ExecuteTime": {
     "end_time": "2022-12-26T09:04:58.021640Z",
     "start_time": "2022-12-26T09:04:57.764279Z"
    }
   },
   "outputs": [
    {
     "data": {
      "text/plain": [
       "(3.858960685820355,\n",
       " 0.2771020991233135,\n",
       " 3,\n",
       " array([[271.75, 271.75, 271.75, 271.75],\n",
       "        [ 28.25,  28.25,  28.25,  28.25]]))"
      ]
     },
     "execution_count": 27,
     "metadata": {},
     "output_type": "execute_result"
    }
   ],
   "source": [
    "chi2_contingency(data) "
   ]
  },
  {
   "cell_type": "markdown",
   "id": "6da45f7b",
   "metadata": {
    "ExecuteTime": {
     "end_time": "2022-12-26T09:07:57.435170Z",
     "start_time": "2022-12-26T09:07:57.419797Z"
    }
   },
   "source": [
    "# compare p value with  alpha =0.05 \n",
    "#  p > 0.05\n",
    "#  accept null hypothesis "
   ]
  },
  {
   "cell_type": "markdown",
   "id": "22b19f5c",
   "metadata": {},
   "source": [
    "# H0 = all centers have same defective %  "
   ]
  },
  {
   "cell_type": "code",
   "execution_count": null,
   "id": "1558b4d4",
   "metadata": {},
   "outputs": [],
   "source": []
  }
 ],
 "metadata": {
  "kernelspec": {
   "display_name": "Python 3 (ipykernel)",
   "language": "python",
   "name": "python3"
  },
  "language_info": {
   "codemirror_mode": {
    "name": "ipython",
    "version": 3
   },
   "file_extension": ".py",
   "mimetype": "text/x-python",
   "name": "python",
   "nbconvert_exporter": "python",
   "pygments_lexer": "ipython3",
   "version": "3.9.13"
  }
 },
 "nbformat": 4,
 "nbformat_minor": 5
}
